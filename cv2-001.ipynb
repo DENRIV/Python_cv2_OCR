{
 "cells": [
  {
   "cell_type": "code",
   "execution_count": 4,
   "metadata": {},
   "outputs": [
    {
     "name": "stdout",
     "output_type": "stream",
     "text": [
      "Noisy,image\n",
      "to test\n",
      "Tesseract OCR\n",
      "\f",
      "\n"
     ]
    }
   ],
   "source": [
    "### text from image ith OCR pytesseract\n",
    "# pip install pytesseract\n",
    "# pip install tesseract\n",
    "\n",
    "pytesseract.pytesseract.tesseract_cmd = 'D:/OCR/Tesseract-OCR/tesseract.exe'\n",
    "\n",
    "from PIL import Image\n",
    "\n",
    "# Importamos Pytesseract\n",
    "import pytesseract\n",
    "\n",
    "# Abrimos la imagen\n",
    "im = Image.open(\"example_01.png\")\n",
    "#im = Image.open(\"stat01.png\")\n",
    "\n",
    "# Utilizamos el método \"image_to_string\"\n",
    "# Le pasamos como argumento la imagen abierta con Pillow\n",
    "texto = pytesseract.image_to_string(im)\n",
    "\n",
    "# Mostramos el resultado\n",
    "print(texto)"
   ]
  },
  {
   "cell_type": "code",
   "execution_count": 5,
   "metadata": {},
   "outputs": [
    {
     "name": "stdout",
     "output_type": "stream",
     "text": [
      "The quick brown fox\n",
      "jumped over the 5\n",
      "lazy dogs!\n",
      "\f",
      "\n"
     ]
    }
   ],
   "source": [
    "# Importamos la libreria Pillow\n",
    "from PIL import Image\n",
    "\n",
    "# Importamos Pytesseract\n",
    "import pytesseract\n",
    "\n",
    "# Abrimos la imagen\n",
    "im = Image.open(\"example_02.jpg\")\n",
    "\n",
    "# Utilizamos el método \"image_to_string\"\n",
    "# Le pasamos como argumento la imagen abierta con Pillow\n",
    "texto = pytesseract.image_to_string(im)\n",
    "\n",
    "# Mostramos el resultado\n",
    "print(texto)"
   ]
  },
  {
   "cell_type": "code",
   "execution_count": 6,
   "metadata": {},
   "outputs": [
    {
     "name": "stdout",
     "output_type": "stream",
     "text": [
      "The quick brown fox\n",
      "jumped over the 5\n",
      "lazy dogs!\n",
      "\f",
      "\n"
     ]
    }
   ],
   "source": [
    "# Importamos la libreria OpenCv\n",
    "import cv2\n",
    "\n",
    "# Importamos Pytesseract\n",
    "import pytesseract\n",
    "\n",
    "# Abrimos la imagen\n",
    "im = cv2.imread(\"example_02.jpg\")\n",
    "\n",
    "# Utilizamos el método \"image_to_string\"\n",
    "# Le pasamos como argumento la imagen abierta con Pillow\n",
    "texto = pytesseract.image_to_string(im)\n",
    "\n",
    "# Mostramos el resultado\n",
    "print(texto)"
   ]
  },
  {
   "cell_type": "code",
   "execution_count": 7,
   "metadata": {},
   "outputs": [
    {
     "name": "stdout",
     "output_type": "stream",
     "text": [
      "©) Original mage ~ a x\n",
      "\n",
      " \n",
      "\n",
      "LikeGeeks.com is a website\n",
      "which contains articles about\n",
      "Linux, programming, web\n",
      "development, 10S, Python and\n",
      "other tech tips.\n",
      "\f",
      "\n"
     ]
    }
   ],
   "source": [
    "import pytesseract\n",
    "print(pytesseract.image_to_string('imgtext.png'))"
   ]
  },
  {
   "cell_type": "code",
   "execution_count": null,
   "metadata": {},
   "outputs": [],
   "source": []
  }
 ],
 "metadata": {
  "kernelspec": {
   "display_name": "Python 3",
   "language": "python",
   "name": "python3"
  },
  "language_info": {
   "codemirror_mode": {
    "name": "ipython",
    "version": 3
   },
   "file_extension": ".py",
   "mimetype": "text/x-python",
   "name": "python",
   "nbconvert_exporter": "python",
   "pygments_lexer": "ipython3",
   "version": "3.7.1"
  }
 },
 "nbformat": 4,
 "nbformat_minor": 4
}
